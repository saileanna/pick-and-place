{
 "cells": [
  {
   "cell_type": "code",
   "execution_count": 1,
   "id": "64280661",
   "metadata": {},
   "outputs": [],
   "source": [
    "from pyniryo import *"
   ]
  },
  {
   "cell_type": "code",
   "execution_count": 3,
   "id": "d1d07d90",
   "metadata": {},
   "outputs": [
    {
     "name": "stdout",
     "output_type": "stream",
     "text": [
      "\n",
      "Connected to server (169.254.200.200) on port: 40001\n",
      "\n"
     ]
    }
   ],
   "source": [
    "robot = NiryoRobot(\"169.254.200.200\")"
   ]
  },
  {
   "cell_type": "code",
   "execution_count": 4,
   "id": "207df54d",
   "metadata": {},
   "outputs": [],
   "source": [
    "robot.calibrate_auto()"
   ]
  },
  {
   "cell_type": "code",
   "execution_count": 5,
   "id": "dbed252f",
   "metadata": {},
   "outputs": [],
   "source": [
    "robot.release_with_tool()"
   ]
  },
  {
   "cell_type": "code",
   "execution_count": 6,
   "id": "bb593971",
   "metadata": {},
   "outputs": [],
   "source": [
    "robot.grasp_with_tool()"
   ]
  },
  {
   "cell_type": "code",
   "execution_count": 7,
   "id": "47d96b52",
   "metadata": {},
   "outputs": [
    {
     "name": "stdout",
     "output_type": "stream",
     "text": [
      "\n",
      "Disconnected from robot\n",
      "\n"
     ]
    }
   ],
   "source": [
    "robot.close_connection()"
   ]
  },
  {
   "cell_type": "code",
   "execution_count": null,
   "id": "e96ee4ee",
   "metadata": {},
   "outputs": [],
   "source": []
  }
 ],
 "metadata": {
  "kernelspec": {
   "display_name": "Python 3",
   "language": "python",
   "name": "python3"
  },
  "language_info": {
   "codemirror_mode": {
    "name": "ipython",
    "version": 3
   },
   "file_extension": ".py",
   "mimetype": "text/x-python",
   "name": "python",
   "nbconvert_exporter": "python",
   "pygments_lexer": "ipython3",
   "version": "3.6.13"
  }
 },
 "nbformat": 4,
 "nbformat_minor": 5
}
